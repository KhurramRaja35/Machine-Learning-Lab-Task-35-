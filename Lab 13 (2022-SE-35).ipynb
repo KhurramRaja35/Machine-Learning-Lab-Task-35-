{
 "cells": [
  {
   "cell_type": "code",
   "execution_count": 18,
   "id": "81541dae-1747-4955-98b6-dc2ec0c38320",
   "metadata": {},
   "outputs": [],
   "source": [
    "import numpy as np"
   ]
  },
  {
   "cell_type": "code",
   "execution_count": 20,
   "id": "6700d109-053d-49fd-9428-0eadbde7a831",
   "metadata": {},
   "outputs": [],
   "source": [
    "def step_function(x):\n",
    "    return 1 if x >= 0 else 0"
   ]
  },
  {
   "cell_type": "code",
   "execution_count": 22,
   "id": "a3327825-9b97-4f79-b11b-41adace702d2",
   "metadata": {},
   "outputs": [],
   "source": [
    "# Perceptron Training Function\n",
    "def train_perceptron(X, y, learning_rate=0.1, epochs=10):\n",
    "    num_features = X.shape[1]  # Number of input features (columns)\n",
    "    weights = np.zeros(num_features + 1)  # Initialize weights (including bias) with 0\n",
    "    print(\"Initial Weights:\", weights)\n",
    "\n",
    "    # Training Loop\n",
    "    for epoch in range(epochs):\n",
    "        total_error = 0  # Track errors in this epoch\n",
    "        for i in range(len(X)):\n",
    "            x_with_bias = np.insert(X[i], 0, 1)  # Add bias term (1 at index 0)\n",
    "            weighted_sum = np.dot(weights, x_with_bias)  # Compute weighted sum\n",
    "            y_pred = step_function(weighted_sum)  # Apply Step Activation Function\n",
    "            error = y[i] - y_pred  # Compute error\n",
    "            total_error += abs(error)  # Accumulate total error\n",
    "\n",
    "            # Update Weights: w = w + η(y_true - y_pred) * x\n",
    "            weights += learning_rate * error * x_with_bias\n",
    "\n",
    "        print(f\"Epoch {epoch+1}: Weights = {weights}, Total Error = {total_error}\")\n",
    "\n",
    "        if total_error == 0:\n",
    "            break  # Stop early if no errors\n",
    "\n",
    "    return weights  # Return trained weights\n"
   ]
  },
  {
   "cell_type": "code",
   "execution_count": 24,
   "id": "014294e0-1a2c-4da1-846c-776f0ea96214",
   "metadata": {},
   "outputs": [],
   "source": [
    "# Prediction Function\n",
    "def predict(X, weights):\n",
    "    predictions = []\n",
    "    for i in range(len(X)):\n",
    "        x_with_bias = np.insert(X[i], 0, 1)  # Add bias term\n",
    "        weighted_sum = np.dot(weights, x_with_bias)  # Compute weighted sum\n",
    "        y_pred = step_function(weighted_sum)  # Apply Step Activation Function\n",
    "        predictions.append(y_pred)\n",
    "    return predictions"
   ]
  },
  {
   "cell_type": "code",
   "execution_count": 26,
   "id": "2e7934ab-f492-49ac-a111-57ef62f0d758",
   "metadata": {},
   "outputs": [],
   "source": [
    "# OR Gate Dataset\n",
    "X = np.array([\n",
    "    [0, 0, 0],\n",
    "    [0, 0, 1], \n",
    "    [0, 1, 0],\n",
    "    [0, 1, 1],\n",
    "    [1, 0, 0],\n",
    "    [1, 0, 1],\n",
    "    [1, 1, 0],\n",
    "    [1, 1, 1] \n",
    "])\n",
    "y = np.array([0, 1, 1, 1, 1, 1, 1, 1]) "
   ]
  },
  {
   "cell_type": "code",
   "execution_count": 28,
   "id": "0d9006b9-d759-44b2-b39b-c93867baba94",
   "metadata": {},
   "outputs": [
    {
     "name": "stdout",
     "output_type": "stream",
     "text": [
      "Initial Weights: [0. 0. 0. 0.]\n",
      "Epoch 1: Weights = [0.  0.  0.  0.1], Total Error = 2\n",
      "Epoch 2: Weights = [0.  0.  0.1 0.1], Total Error = 2\n",
      "Epoch 3: Weights = [0.  0.1 0.1 0.1], Total Error = 2\n",
      "Epoch 4: Weights = [-0.1  0.1  0.1  0.1], Total Error = 1\n",
      "Epoch 5: Weights = [-0.1  0.1  0.1  0.1], Total Error = 0\n",
      "\n",
      "Final Predictions:\n",
      "Input: [0 0 0], Predicted: 0, Actual: 0\n",
      "Input: [0 0 1], Predicted: 1, Actual: 1\n",
      "Input: [0 1 0], Predicted: 1, Actual: 1\n",
      "Input: [0 1 1], Predicted: 1, Actual: 1\n",
      "Input: [1 0 0], Predicted: 1, Actual: 1\n",
      "Input: [1 0 1], Predicted: 1, Actual: 1\n",
      "Input: [1 1 0], Predicted: 1, Actual: 1\n",
      "Input: [1 1 1], Predicted: 1, Actual: 1\n"
     ]
    }
   ],
   "source": [
    "weights = train_perceptron(X, y)\n",
    "\n",
    "# Test Perceptron\n",
    "predictions = predict(X, weights)\n",
    "print(\"\\nFinal Predictions:\")\n",
    "for i in range(len(X)):\n",
    "    print(f\"Input: {X[i]}, Predicted: {predictions[i]}, Actual: {y[i]}\")"
   ]
  },
  {
   "cell_type": "code",
   "execution_count": null,
   "id": "b12f30cb-d762-4fad-92de-57f12d8f0eee",
   "metadata": {},
   "outputs": [],
   "source": []
  },
  {
   "cell_type": "code",
   "execution_count": null,
   "id": "52d7f0bd-de4b-474a-9054-9f8813c27c1a",
   "metadata": {},
   "outputs": [],
   "source": []
  }
 ],
 "metadata": {
  "kernelspec": {
   "display_name": "Python 3 (ipykernel)",
   "language": "python",
   "name": "python3"
  },
  "language_info": {
   "codemirror_mode": {
    "name": "ipython",
    "version": 3
   },
   "file_extension": ".py",
   "mimetype": "text/x-python",
   "name": "python",
   "nbconvert_exporter": "python",
   "pygments_lexer": "ipython3",
   "version": "3.12.7"
  }
 },
 "nbformat": 4,
 "nbformat_minor": 5
}

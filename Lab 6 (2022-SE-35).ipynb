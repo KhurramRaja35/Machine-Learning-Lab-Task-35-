{
 "cells": [
  {
   "cell_type": "code",
   "execution_count": 39,
   "id": "a6a2312b-fc1c-4829-8800-0f94510dcd72",
   "metadata": {},
   "outputs": [],
   "source": [
    "import pandas as pd\n",
    "import numpy as np\n",
    "import matplotlib.pyplot as plt\n",
    "import seaborn as sns\n",
    "import warnings\n",
    "warnings.filterwarnings('ignore')"
   ]
  },
  {
   "cell_type": "code",
   "execution_count": 41,
   "id": "18e8f6fa-2504-491c-99a2-7bc26427f051",
   "metadata": {},
   "outputs": [],
   "source": [
    "from sklearn.model_selection import train_test_split\n",
    "from sklearn.linear_model import LinearRegression\n",
    "from sklearn.preprocessing import MinMaxScaler \n",
    "from sklearn.preprocessing import StandardScaler\n",
    "from sklearn.preprocessing import LabelEncoder\n",
    "from sklearn.metrics import mean_squared_error"
   ]
  },
  {
   "cell_type": "code",
   "execution_count": 43,
   "id": "dcb4d072-b0e3-4a81-a97d-4d9cb7005119",
   "metadata": {},
   "outputs": [
    {
     "data": {
      "text/html": [
       "<div>\n",
       "<style scoped>\n",
       "    .dataframe tbody tr th:only-of-type {\n",
       "        vertical-align: middle;\n",
       "    }\n",
       "\n",
       "    .dataframe tbody tr th {\n",
       "        vertical-align: top;\n",
       "    }\n",
       "\n",
       "    .dataframe thead th {\n",
       "        text-align: right;\n",
       "    }\n",
       "</style>\n",
       "<table border=\"1\" class=\"dataframe\">\n",
       "  <thead>\n",
       "    <tr style=\"text-align: right;\">\n",
       "      <th></th>\n",
       "      <th>Trip_Distance_km</th>\n",
       "      <th>Time_of_Day</th>\n",
       "      <th>Day_of_Week</th>\n",
       "      <th>Passenger_Count</th>\n",
       "      <th>Traffic_Conditions</th>\n",
       "      <th>Weather</th>\n",
       "      <th>Base_Fare</th>\n",
       "      <th>Per_Km_Rate</th>\n",
       "      <th>Per_Minute_Rate</th>\n",
       "      <th>Trip_Duration_Minutes</th>\n",
       "      <th>Trip_Price</th>\n",
       "    </tr>\n",
       "  </thead>\n",
       "  <tbody>\n",
       "    <tr>\n",
       "      <th>0</th>\n",
       "      <td>19.35</td>\n",
       "      <td>Morning</td>\n",
       "      <td>Weekday</td>\n",
       "      <td>3.0</td>\n",
       "      <td>Low</td>\n",
       "      <td>Clear</td>\n",
       "      <td>3.56</td>\n",
       "      <td>0.80</td>\n",
       "      <td>0.32</td>\n",
       "      <td>53.82</td>\n",
       "      <td>36.2624</td>\n",
       "    </tr>\n",
       "    <tr>\n",
       "      <th>1</th>\n",
       "      <td>47.59</td>\n",
       "      <td>Afternoon</td>\n",
       "      <td>Weekday</td>\n",
       "      <td>1.0</td>\n",
       "      <td>High</td>\n",
       "      <td>Clear</td>\n",
       "      <td>NaN</td>\n",
       "      <td>0.62</td>\n",
       "      <td>0.43</td>\n",
       "      <td>40.57</td>\n",
       "      <td>NaN</td>\n",
       "    </tr>\n",
       "    <tr>\n",
       "      <th>2</th>\n",
       "      <td>36.87</td>\n",
       "      <td>Evening</td>\n",
       "      <td>Weekend</td>\n",
       "      <td>1.0</td>\n",
       "      <td>High</td>\n",
       "      <td>Clear</td>\n",
       "      <td>2.70</td>\n",
       "      <td>1.21</td>\n",
       "      <td>0.15</td>\n",
       "      <td>37.27</td>\n",
       "      <td>52.9032</td>\n",
       "    </tr>\n",
       "    <tr>\n",
       "      <th>3</th>\n",
       "      <td>30.33</td>\n",
       "      <td>Evening</td>\n",
       "      <td>Weekday</td>\n",
       "      <td>4.0</td>\n",
       "      <td>Low</td>\n",
       "      <td>NaN</td>\n",
       "      <td>3.48</td>\n",
       "      <td>0.51</td>\n",
       "      <td>0.15</td>\n",
       "      <td>116.81</td>\n",
       "      <td>36.4698</td>\n",
       "    </tr>\n",
       "    <tr>\n",
       "      <th>4</th>\n",
       "      <td>NaN</td>\n",
       "      <td>Evening</td>\n",
       "      <td>Weekday</td>\n",
       "      <td>3.0</td>\n",
       "      <td>High</td>\n",
       "      <td>Clear</td>\n",
       "      <td>2.93</td>\n",
       "      <td>0.63</td>\n",
       "      <td>0.32</td>\n",
       "      <td>22.64</td>\n",
       "      <td>15.6180</td>\n",
       "    </tr>\n",
       "    <tr>\n",
       "      <th>...</th>\n",
       "      <td>...</td>\n",
       "      <td>...</td>\n",
       "      <td>...</td>\n",
       "      <td>...</td>\n",
       "      <td>...</td>\n",
       "      <td>...</td>\n",
       "      <td>...</td>\n",
       "      <td>...</td>\n",
       "      <td>...</td>\n",
       "      <td>...</td>\n",
       "      <td>...</td>\n",
       "    </tr>\n",
       "    <tr>\n",
       "      <th>995</th>\n",
       "      <td>5.49</td>\n",
       "      <td>Afternoon</td>\n",
       "      <td>Weekend</td>\n",
       "      <td>4.0</td>\n",
       "      <td>Medium</td>\n",
       "      <td>Clear</td>\n",
       "      <td>2.39</td>\n",
       "      <td>0.62</td>\n",
       "      <td>0.49</td>\n",
       "      <td>58.39</td>\n",
       "      <td>34.4049</td>\n",
       "    </tr>\n",
       "    <tr>\n",
       "      <th>996</th>\n",
       "      <td>45.95</td>\n",
       "      <td>Night</td>\n",
       "      <td>Weekday</td>\n",
       "      <td>4.0</td>\n",
       "      <td>Medium</td>\n",
       "      <td>Clear</td>\n",
       "      <td>3.12</td>\n",
       "      <td>0.61</td>\n",
       "      <td>NaN</td>\n",
       "      <td>61.96</td>\n",
       "      <td>62.1295</td>\n",
       "    </tr>\n",
       "    <tr>\n",
       "      <th>997</th>\n",
       "      <td>7.70</td>\n",
       "      <td>Morning</td>\n",
       "      <td>Weekday</td>\n",
       "      <td>3.0</td>\n",
       "      <td>Low</td>\n",
       "      <td>Rain</td>\n",
       "      <td>2.08</td>\n",
       "      <td>1.78</td>\n",
       "      <td>NaN</td>\n",
       "      <td>54.18</td>\n",
       "      <td>33.1236</td>\n",
       "    </tr>\n",
       "    <tr>\n",
       "      <th>998</th>\n",
       "      <td>47.56</td>\n",
       "      <td>Morning</td>\n",
       "      <td>Weekday</td>\n",
       "      <td>1.0</td>\n",
       "      <td>Low</td>\n",
       "      <td>Clear</td>\n",
       "      <td>2.67</td>\n",
       "      <td>0.82</td>\n",
       "      <td>0.17</td>\n",
       "      <td>114.94</td>\n",
       "      <td>61.2090</td>\n",
       "    </tr>\n",
       "    <tr>\n",
       "      <th>999</th>\n",
       "      <td>22.85</td>\n",
       "      <td>Morning</td>\n",
       "      <td>Weekend</td>\n",
       "      <td>3.0</td>\n",
       "      <td>Medium</td>\n",
       "      <td>Clear</td>\n",
       "      <td>4.34</td>\n",
       "      <td>NaN</td>\n",
       "      <td>0.23</td>\n",
       "      <td>29.69</td>\n",
       "      <td>45.4437</td>\n",
       "    </tr>\n",
       "  </tbody>\n",
       "</table>\n",
       "<p>1000 rows × 11 columns</p>\n",
       "</div>"
      ],
      "text/plain": [
       "     Trip_Distance_km Time_of_Day Day_of_Week  Passenger_Count  \\\n",
       "0               19.35     Morning     Weekday              3.0   \n",
       "1               47.59   Afternoon     Weekday              1.0   \n",
       "2               36.87     Evening     Weekend              1.0   \n",
       "3               30.33     Evening     Weekday              4.0   \n",
       "4                 NaN     Evening     Weekday              3.0   \n",
       "..                ...         ...         ...              ...   \n",
       "995              5.49   Afternoon     Weekend              4.0   \n",
       "996             45.95       Night     Weekday              4.0   \n",
       "997              7.70     Morning     Weekday              3.0   \n",
       "998             47.56     Morning     Weekday              1.0   \n",
       "999             22.85     Morning     Weekend              3.0   \n",
       "\n",
       "    Traffic_Conditions Weather  Base_Fare  Per_Km_Rate  Per_Minute_Rate  \\\n",
       "0                  Low   Clear       3.56         0.80             0.32   \n",
       "1                 High   Clear        NaN         0.62             0.43   \n",
       "2                 High   Clear       2.70         1.21             0.15   \n",
       "3                  Low     NaN       3.48         0.51             0.15   \n",
       "4                 High   Clear       2.93         0.63             0.32   \n",
       "..                 ...     ...        ...          ...              ...   \n",
       "995             Medium   Clear       2.39         0.62             0.49   \n",
       "996             Medium   Clear       3.12         0.61              NaN   \n",
       "997                Low    Rain       2.08         1.78              NaN   \n",
       "998                Low   Clear       2.67         0.82             0.17   \n",
       "999             Medium   Clear       4.34          NaN             0.23   \n",
       "\n",
       "     Trip_Duration_Minutes  Trip_Price  \n",
       "0                    53.82     36.2624  \n",
       "1                    40.57         NaN  \n",
       "2                    37.27     52.9032  \n",
       "3                   116.81     36.4698  \n",
       "4                    22.64     15.6180  \n",
       "..                     ...         ...  \n",
       "995                  58.39     34.4049  \n",
       "996                  61.96     62.1295  \n",
       "997                  54.18     33.1236  \n",
       "998                 114.94     61.2090  \n",
       "999                  29.69     45.4437  \n",
       "\n",
       "[1000 rows x 11 columns]"
      ]
     },
     "execution_count": 43,
     "metadata": {},
     "output_type": "execute_result"
    }
   ],
   "source": [
    "df = pd.read_csv('taxi_trip_pricing.csv')\n",
    "df"
   ]
  },
  {
   "cell_type": "code",
   "execution_count": 45,
   "id": "5ad63d79-0282-41a2-a252-4a655f8beb3f",
   "metadata": {},
   "outputs": [
    {
     "data": {
      "text/html": [
       "<div>\n",
       "<style scoped>\n",
       "    .dataframe tbody tr th:only-of-type {\n",
       "        vertical-align: middle;\n",
       "    }\n",
       "\n",
       "    .dataframe tbody tr th {\n",
       "        vertical-align: top;\n",
       "    }\n",
       "\n",
       "    .dataframe thead th {\n",
       "        text-align: right;\n",
       "    }\n",
       "</style>\n",
       "<table border=\"1\" class=\"dataframe\">\n",
       "  <thead>\n",
       "    <tr style=\"text-align: right;\">\n",
       "      <th></th>\n",
       "      <th>Trip_Distance_km</th>\n",
       "      <th>Time_of_Day</th>\n",
       "      <th>Day_of_Week</th>\n",
       "      <th>Passenger_Count</th>\n",
       "      <th>Traffic_Conditions</th>\n",
       "      <th>Weather</th>\n",
       "      <th>Base_Fare</th>\n",
       "      <th>Per_Km_Rate</th>\n",
       "      <th>Per_Minute_Rate</th>\n",
       "      <th>Trip_Duration_Minutes</th>\n",
       "      <th>Trip_Price</th>\n",
       "    </tr>\n",
       "  </thead>\n",
       "  <tbody>\n",
       "    <tr>\n",
       "      <th>0</th>\n",
       "      <td>19.35</td>\n",
       "      <td>Morning</td>\n",
       "      <td>Weekday</td>\n",
       "      <td>3.0</td>\n",
       "      <td>Low</td>\n",
       "      <td>Clear</td>\n",
       "      <td>3.56</td>\n",
       "      <td>0.80</td>\n",
       "      <td>0.32</td>\n",
       "      <td>53.82</td>\n",
       "      <td>36.2624</td>\n",
       "    </tr>\n",
       "    <tr>\n",
       "      <th>1</th>\n",
       "      <td>47.59</td>\n",
       "      <td>Afternoon</td>\n",
       "      <td>Weekday</td>\n",
       "      <td>1.0</td>\n",
       "      <td>High</td>\n",
       "      <td>Clear</td>\n",
       "      <td>NaN</td>\n",
       "      <td>0.62</td>\n",
       "      <td>0.43</td>\n",
       "      <td>40.57</td>\n",
       "      <td>NaN</td>\n",
       "    </tr>\n",
       "    <tr>\n",
       "      <th>2</th>\n",
       "      <td>36.87</td>\n",
       "      <td>Evening</td>\n",
       "      <td>Weekend</td>\n",
       "      <td>1.0</td>\n",
       "      <td>High</td>\n",
       "      <td>Clear</td>\n",
       "      <td>2.70</td>\n",
       "      <td>1.21</td>\n",
       "      <td>0.15</td>\n",
       "      <td>37.27</td>\n",
       "      <td>52.9032</td>\n",
       "    </tr>\n",
       "    <tr>\n",
       "      <th>3</th>\n",
       "      <td>30.33</td>\n",
       "      <td>Evening</td>\n",
       "      <td>Weekday</td>\n",
       "      <td>4.0</td>\n",
       "      <td>Low</td>\n",
       "      <td>NaN</td>\n",
       "      <td>3.48</td>\n",
       "      <td>0.51</td>\n",
       "      <td>0.15</td>\n",
       "      <td>116.81</td>\n",
       "      <td>36.4698</td>\n",
       "    </tr>\n",
       "    <tr>\n",
       "      <th>4</th>\n",
       "      <td>NaN</td>\n",
       "      <td>Evening</td>\n",
       "      <td>Weekday</td>\n",
       "      <td>3.0</td>\n",
       "      <td>High</td>\n",
       "      <td>Clear</td>\n",
       "      <td>2.93</td>\n",
       "      <td>0.63</td>\n",
       "      <td>0.32</td>\n",
       "      <td>22.64</td>\n",
       "      <td>15.6180</td>\n",
       "    </tr>\n",
       "  </tbody>\n",
       "</table>\n",
       "</div>"
      ],
      "text/plain": [
       "   Trip_Distance_km Time_of_Day Day_of_Week  Passenger_Count  \\\n",
       "0             19.35     Morning     Weekday              3.0   \n",
       "1             47.59   Afternoon     Weekday              1.0   \n",
       "2             36.87     Evening     Weekend              1.0   \n",
       "3             30.33     Evening     Weekday              4.0   \n",
       "4               NaN     Evening     Weekday              3.0   \n",
       "\n",
       "  Traffic_Conditions Weather  Base_Fare  Per_Km_Rate  Per_Minute_Rate  \\\n",
       "0                Low   Clear       3.56         0.80             0.32   \n",
       "1               High   Clear        NaN         0.62             0.43   \n",
       "2               High   Clear       2.70         1.21             0.15   \n",
       "3                Low     NaN       3.48         0.51             0.15   \n",
       "4               High   Clear       2.93         0.63             0.32   \n",
       "\n",
       "   Trip_Duration_Minutes  Trip_Price  \n",
       "0                  53.82     36.2624  \n",
       "1                  40.57         NaN  \n",
       "2                  37.27     52.9032  \n",
       "3                 116.81     36.4698  \n",
       "4                  22.64     15.6180  "
      ]
     },
     "execution_count": 45,
     "metadata": {},
     "output_type": "execute_result"
    }
   ],
   "source": [
    "df.head()"
   ]
  },
  {
   "cell_type": "code",
   "execution_count": 47,
   "id": "d8fb2edf-f3e1-474e-b496-ac70cbc93071",
   "metadata": {},
   "outputs": [
    {
     "data": {
      "text/html": [
       "<div>\n",
       "<style scoped>\n",
       "    .dataframe tbody tr th:only-of-type {\n",
       "        vertical-align: middle;\n",
       "    }\n",
       "\n",
       "    .dataframe tbody tr th {\n",
       "        vertical-align: top;\n",
       "    }\n",
       "\n",
       "    .dataframe thead th {\n",
       "        text-align: right;\n",
       "    }\n",
       "</style>\n",
       "<table border=\"1\" class=\"dataframe\">\n",
       "  <thead>\n",
       "    <tr style=\"text-align: right;\">\n",
       "      <th></th>\n",
       "      <th>Trip_Distance_km</th>\n",
       "      <th>Passenger_Count</th>\n",
       "      <th>Base_Fare</th>\n",
       "      <th>Per_Km_Rate</th>\n",
       "      <th>Per_Minute_Rate</th>\n",
       "      <th>Trip_Duration_Minutes</th>\n",
       "      <th>Trip_Price</th>\n",
       "    </tr>\n",
       "  </thead>\n",
       "  <tbody>\n",
       "    <tr>\n",
       "      <th>count</th>\n",
       "      <td>950.000000</td>\n",
       "      <td>950.000000</td>\n",
       "      <td>950.000000</td>\n",
       "      <td>950.000000</td>\n",
       "      <td>950.000000</td>\n",
       "      <td>950.000000</td>\n",
       "      <td>951.000000</td>\n",
       "    </tr>\n",
       "    <tr>\n",
       "      <th>mean</th>\n",
       "      <td>27.070547</td>\n",
       "      <td>2.476842</td>\n",
       "      <td>3.502989</td>\n",
       "      <td>1.233316</td>\n",
       "      <td>0.292916</td>\n",
       "      <td>62.118116</td>\n",
       "      <td>56.874773</td>\n",
       "    </tr>\n",
       "    <tr>\n",
       "      <th>std</th>\n",
       "      <td>19.905300</td>\n",
       "      <td>1.102249</td>\n",
       "      <td>0.870162</td>\n",
       "      <td>0.429816</td>\n",
       "      <td>0.115592</td>\n",
       "      <td>32.154406</td>\n",
       "      <td>40.469791</td>\n",
       "    </tr>\n",
       "    <tr>\n",
       "      <th>min</th>\n",
       "      <td>1.230000</td>\n",
       "      <td>1.000000</td>\n",
       "      <td>2.010000</td>\n",
       "      <td>0.500000</td>\n",
       "      <td>0.100000</td>\n",
       "      <td>5.010000</td>\n",
       "      <td>6.126900</td>\n",
       "    </tr>\n",
       "    <tr>\n",
       "      <th>25%</th>\n",
       "      <td>12.632500</td>\n",
       "      <td>1.250000</td>\n",
       "      <td>2.730000</td>\n",
       "      <td>0.860000</td>\n",
       "      <td>0.190000</td>\n",
       "      <td>35.882500</td>\n",
       "      <td>33.742650</td>\n",
       "    </tr>\n",
       "    <tr>\n",
       "      <th>50%</th>\n",
       "      <td>25.830000</td>\n",
       "      <td>2.000000</td>\n",
       "      <td>3.520000</td>\n",
       "      <td>1.220000</td>\n",
       "      <td>0.290000</td>\n",
       "      <td>61.860000</td>\n",
       "      <td>50.074500</td>\n",
       "    </tr>\n",
       "    <tr>\n",
       "      <th>75%</th>\n",
       "      <td>38.405000</td>\n",
       "      <td>3.000000</td>\n",
       "      <td>4.260000</td>\n",
       "      <td>1.610000</td>\n",
       "      <td>0.390000</td>\n",
       "      <td>89.055000</td>\n",
       "      <td>69.099350</td>\n",
       "    </tr>\n",
       "    <tr>\n",
       "      <th>max</th>\n",
       "      <td>146.067047</td>\n",
       "      <td>4.000000</td>\n",
       "      <td>5.000000</td>\n",
       "      <td>2.000000</td>\n",
       "      <td>0.500000</td>\n",
       "      <td>119.840000</td>\n",
       "      <td>332.043689</td>\n",
       "    </tr>\n",
       "  </tbody>\n",
       "</table>\n",
       "</div>"
      ],
      "text/plain": [
       "       Trip_Distance_km  Passenger_Count   Base_Fare  Per_Km_Rate  \\\n",
       "count        950.000000       950.000000  950.000000   950.000000   \n",
       "mean          27.070547         2.476842    3.502989     1.233316   \n",
       "std           19.905300         1.102249    0.870162     0.429816   \n",
       "min            1.230000         1.000000    2.010000     0.500000   \n",
       "25%           12.632500         1.250000    2.730000     0.860000   \n",
       "50%           25.830000         2.000000    3.520000     1.220000   \n",
       "75%           38.405000         3.000000    4.260000     1.610000   \n",
       "max          146.067047         4.000000    5.000000     2.000000   \n",
       "\n",
       "       Per_Minute_Rate  Trip_Duration_Minutes  Trip_Price  \n",
       "count       950.000000             950.000000  951.000000  \n",
       "mean          0.292916              62.118116   56.874773  \n",
       "std           0.115592              32.154406   40.469791  \n",
       "min           0.100000               5.010000    6.126900  \n",
       "25%           0.190000              35.882500   33.742650  \n",
       "50%           0.290000              61.860000   50.074500  \n",
       "75%           0.390000              89.055000   69.099350  \n",
       "max           0.500000             119.840000  332.043689  "
      ]
     },
     "execution_count": 47,
     "metadata": {},
     "output_type": "execute_result"
    }
   ],
   "source": [
    "df.describe()"
   ]
  },
  {
   "cell_type": "code",
   "execution_count": 49,
   "id": "3f685024-3695-4579-8750-afd679445de3",
   "metadata": {},
   "outputs": [
    {
     "data": {
      "text/plain": [
       "Index(['Trip_Distance_km', 'Time_of_Day', 'Day_of_Week', 'Passenger_Count',\n",
       "       'Traffic_Conditions', 'Weather', 'Base_Fare', 'Per_Km_Rate',\n",
       "       'Per_Minute_Rate', 'Trip_Duration_Minutes', 'Trip_Price'],\n",
       "      dtype='object')"
      ]
     },
     "execution_count": 49,
     "metadata": {},
     "output_type": "execute_result"
    }
   ],
   "source": [
    "df.columns"
   ]
  },
  {
   "cell_type": "code",
   "execution_count": 51,
   "id": "0d212fdc-f607-404b-acb6-f9113e59a4d4",
   "metadata": {},
   "outputs": [
    {
     "data": {
      "text/plain": [
       "(1000, 11)"
      ]
     },
     "execution_count": 51,
     "metadata": {},
     "output_type": "execute_result"
    }
   ],
   "source": [
    "df.shape"
   ]
  },
  {
   "cell_type": "code",
   "execution_count": 53,
   "id": "2aec3e7d-d282-4de0-9a63-86f9940bb10d",
   "metadata": {},
   "outputs": [],
   "source": [
    "# TRIP DISTANCE KM (dealing first column)........................................................"
   ]
  },
  {
   "cell_type": "code",
   "execution_count": 55,
   "id": "5cd9ef42-7223-4ecc-b24e-a436cad393e1",
   "metadata": {},
   "outputs": [],
   "source": [
    "# filling missing values with the median\n",
    "df['Trip_Distance_km'].fillna(df['Trip_Distance_km'].median(), inplace=True)"
   ]
  },
  {
   "cell_type": "code",
   "execution_count": 57,
   "id": "78eb55dd-a809-4d82-a5c1-749ca19f0a18",
   "metadata": {},
   "outputs": [],
   "source": [
    "# Handling Outliers:\n",
    "\n",
    "df['Trip_Distance_km'] = df['Trip_Distance_km'].apply(lambda x: 25.83 if x > 74 else x)"
   ]
  },
  {
   "cell_type": "code",
   "execution_count": 59,
   "id": "6c8581f5-a007-43c1-b362-1cfe662605f5",
   "metadata": {},
   "outputs": [],
   "source": [
    "# Time of Day (Analysing & Preprocessing column 2)....................................................."
   ]
  },
  {
   "cell_type": "code",
   "execution_count": 61,
   "id": "1714e892-fd16-4237-9133-34103fb5e733",
   "metadata": {},
   "outputs": [
    {
     "data": {
      "text/plain": [
       "950"
      ]
     },
     "execution_count": 61,
     "metadata": {},
     "output_type": "execute_result"
    }
   ],
   "source": [
    "df['Time_of_Day'].count()\n",
    "\n",
    "# There are 50 missing values in Time_of_Day"
   ]
  },
  {
   "cell_type": "code",
   "execution_count": 63,
   "id": "5b90d32d-3504-4ad1-9b91-3d768b12481a",
   "metadata": {},
   "outputs": [
    {
     "data": {
      "text/plain": [
       "array(['Morning', 'Afternoon', 'Evening', 'Night', nan], dtype=object)"
      ]
     },
     "execution_count": 63,
     "metadata": {},
     "output_type": "execute_result"
    }
   ],
   "source": [
    "df['Time_of_Day'].unique()"
   ]
  },
  {
   "cell_type": "code",
   "execution_count": 65,
   "id": "2dc6d2d7-ab33-44dd-b249-330dc31d61db",
   "metadata": {},
   "outputs": [],
   "source": [
    "df['Time_of_Day'].fillna('Afternoon', inplace=True) # filling missing values with afternoon"
   ]
  },
  {
   "cell_type": "code",
   "execution_count": 67,
   "id": "eff4eb98-7c77-4b5e-b56e-7411aa49a4eb",
   "metadata": {},
   "outputs": [
    {
     "data": {
      "text/plain": [
       "1000"
      ]
     },
     "execution_count": 67,
     "metadata": {},
     "output_type": "execute_result"
    }
   ],
   "source": [
    "df['Time_of_Day'].count() #all  missing values have been dealt"
   ]
  },
  {
   "cell_type": "code",
   "execution_count": 69,
   "id": "40e2e72c-7cf1-4e99-aac3-be70cb3e235f",
   "metadata": {},
   "outputs": [],
   "source": [
    "label = LabelEncoder() #Creates an instance of LabelEncoder, which will be used to transform categorical values into numbers."
   ]
  },
  {
   "cell_type": "code",
   "execution_count": 71,
   "id": "f5061947-5db6-407e-9d84-3f87b17f0900",
   "metadata": {},
   "outputs": [],
   "source": [
    "df['Time_of_Day'] = label.fit_transform(df['Time_of_Day']) #Transforms them into numeric labels."
   ]
  },
  {
   "cell_type": "code",
   "execution_count": 75,
   "id": "14df0950-b70b-4758-a70b-4e050fa399d5",
   "metadata": {},
   "outputs": [
    {
     "data": {
      "text/plain": [
       "array([2, 0, 1, 3])"
      ]
     },
     "execution_count": 75,
     "metadata": {},
     "output_type": "execute_result"
    }
   ],
   "source": [
    "df['Time_of_Day'].unique() \n",
    "# Morning   →  2\n",
    "# Evening     →  0\n",
    "# Afternoon →  1\n",
    "# Night   →  3"
   ]
  },
  {
   "cell_type": "code",
   "execution_count": 77,
   "id": "0004f04a-ed22-491f-9ff0-2848a190b110",
   "metadata": {},
   "outputs": [],
   "source": [
    "# Day of Week (Analysing and pre-processing column 3)..........................................................."
   ]
  },
  {
   "cell_type": "code",
   "execution_count": 79,
   "id": "af27d083-6768-43ce-9280-a2afbf9ea673",
   "metadata": {},
   "outputs": [
    {
     "data": {
      "text/plain": [
       "950"
      ]
     },
     "execution_count": 79,
     "metadata": {},
     "output_type": "execute_result"
    }
   ],
   "source": [
    "df['Day_of_Week'].count()\n",
    "\n",
    "# There are 50 missing values in Day_of_Week"
   ]
  },
  {
   "cell_type": "code",
   "execution_count": 81,
   "id": "05fff568-d37a-49c4-ab26-791e80faa10f",
   "metadata": {},
   "outputs": [
    {
     "data": {
      "text/plain": [
       "array(['Weekday', 'Weekend', nan], dtype=object)"
      ]
     },
     "execution_count": 81,
     "metadata": {},
     "output_type": "execute_result"
    }
   ],
   "source": [
    "df['Day_of_Week'].unique()"
   ]
  },
  {
   "cell_type": "code",
   "execution_count": 93,
   "id": "59599df6-a075-409f-9e0a-9820e970b79b",
   "metadata": {},
   "outputs": [],
   "source": [
    "df['Day_of_Week'].fillna('Weekday', inplace= True)"
   ]
  },
  {
   "cell_type": "code",
   "execution_count": 95,
   "id": "014b74a2-3ac3-4b25-86c5-710197574d56",
   "metadata": {},
   "outputs": [
    {
     "data": {
      "text/plain": [
       "1000"
      ]
     },
     "execution_count": 95,
     "metadata": {},
     "output_type": "execute_result"
    }
   ],
   "source": [
    "df['Day_of_Week'].count()"
   ]
  },
  {
   "cell_type": "code",
   "execution_count": 97,
   "id": "1c5899cb-665b-4071-9163-653c511ac86f",
   "metadata": {},
   "outputs": [],
   "source": [
    "df['Day_of_Week'] = label.fit_transform(df['Day_of_Week'])"
   ]
  },
  {
   "cell_type": "code",
   "execution_count": 99,
   "id": "341e7e9b-dd48-4680-bd3f-c19fc724df56",
   "metadata": {},
   "outputs": [
    {
     "data": {
      "text/plain": [
       "array([0, 1])"
      ]
     },
     "execution_count": 99,
     "metadata": {},
     "output_type": "execute_result"
    }
   ],
   "source": [
    "df['Day_of_Week'].unique()"
   ]
  },
  {
   "cell_type": "code",
   "execution_count": 101,
   "id": "dc656626-a5b1-45f1-bcd3-565dd2080113",
   "metadata": {},
   "outputs": [],
   "source": [
    "# Passenger Count  (Analysing and pre-processing column 3)..........................................................."
   ]
  },
  {
   "cell_type": "code",
   "execution_count": 105,
   "id": "7e22c99d-4441-4de9-b3e4-b0b7cf61b4a7",
   "metadata": {},
   "outputs": [
    {
     "data": {
      "text/plain": [
       "950"
      ]
     },
     "execution_count": 105,
     "metadata": {},
     "output_type": "execute_result"
    }
   ],
   "source": [
    "df['Passenger_Count'].count()\n",
    "#50 missing values.."
   ]
  },
  {
   "cell_type": "code",
   "execution_count": 107,
   "id": "c3d9bb83-2bc3-49bf-bfc6-59ee6c17d9de",
   "metadata": {},
   "outputs": [
    {
     "data": {
      "text/plain": [
       "array([ 3.,  1.,  4.,  2., nan])"
      ]
     },
     "execution_count": 107,
     "metadata": {},
     "output_type": "execute_result"
    }
   ],
   "source": [
    "df['Passenger_Count'].unique()"
   ]
  },
  {
   "cell_type": "code",
   "execution_count": 111,
   "id": "e4f8f0e6-2f8e-4735-91d3-2c771c91123e",
   "metadata": {},
   "outputs": [
    {
     "data": {
      "text/plain": [
       "2.4768421052631577"
      ]
     },
     "execution_count": 111,
     "metadata": {},
     "output_type": "execute_result"
    }
   ],
   "source": [
    "df['Passenger_Count'].mean()"
   ]
  },
  {
   "cell_type": "code",
   "execution_count": 113,
   "id": "55ec6186-4f9b-4023-b512-ca0a93185f22",
   "metadata": {},
   "outputs": [
    {
     "data": {
      "text/plain": [
       "2.0"
      ]
     },
     "execution_count": 113,
     "metadata": {},
     "output_type": "execute_result"
    }
   ],
   "source": [
    "df['Passenger_Count'].median()"
   ]
  },
  {
   "cell_type": "code",
   "execution_count": 115,
   "id": "63ebc25b-04e3-45a8-a13a-39e89d58c119",
   "metadata": {},
   "outputs": [
    {
     "data": {
      "text/plain": [
       "0    3.0\n",
       "Name: Passenger_Count, dtype: float64"
      ]
     },
     "execution_count": 115,
     "metadata": {},
     "output_type": "execute_result"
    }
   ],
   "source": [
    "df['Passenger_Count'].mode()"
   ]
  },
  {
   "cell_type": "code",
   "execution_count": 117,
   "id": "f28147f8-e0b8-4da8-8656-a1b7e5bc56f4",
   "metadata": {},
   "outputs": [
    {
     "data": {
      "text/plain": [
       "1.75"
      ]
     },
     "execution_count": 117,
     "metadata": {},
     "output_type": "execute_result"
    }
   ],
   "source": [
    "Q1 = df['Passenger_Count'].quantile(0.25)  # First quartile\n",
    "Q3 = df['Passenger_Count'].quantile(0.75)  # Third quartile\n",
    "IQR = Q3 - Q1  # Interquartile range\n",
    "IQR"
   ]
  },
  {
   "cell_type": "code",
   "execution_count": 119,
   "id": "2ef6a807-7808-4464-a72f-32f383a4e3dc",
   "metadata": {},
   "outputs": [],
   "source": [
    "# Impute missing values with the median\n",
    "df['Passenger_Count'].fillna(df['Passenger_Count'].median(), inplace=True)"
   ]
  },
  {
   "cell_type": "code",
   "execution_count": 121,
   "id": "25668688-4b7f-4829-a66e-26a47a1f56a4",
   "metadata": {},
   "outputs": [
    {
     "data": {
      "text/plain": [
       "1000"
      ]
     },
     "execution_count": 121,
     "metadata": {},
     "output_type": "execute_result"
    }
   ],
   "source": [
    "df['Passenger_Count'].count()"
   ]
  },
  {
   "cell_type": "code",
   "execution_count": 123,
   "id": "781e4b1b-f945-4560-bb99-3207e12949ac",
   "metadata": {},
   "outputs": [],
   "source": [
    "# now we will handle the outliar...."
   ]
  },
  {
   "cell_type": "code",
   "execution_count": 127,
   "id": "5d88fcd1-96c2-4bd0-ac7c-ccfb0515fb95",
   "metadata": {},
   "outputs": [
    {
     "data": {
      "image/png": "[encoded data removed]",
      "text/plain": [
       "<Figure size 640x480 with 1 Axes>"
      ]
     },
     "metadata": {},
     "output_type": "display_data"
    }
   ],
   "source": [
    "# Finding outliers through Box and whisker plot\n",
    "\n",
    "sns.boxplot(data=df['Passenger_Count'], color='lightblue')\n",
    "plt.title('Boxplot')\n",
    "plt.show()\n",
    "# no outliar seen..."
   ]
  },
  {
   "cell_type": "code",
   "execution_count": 129,
   "id": "9cf471e6-d9df-404c-9400-a06866f652ed",
   "metadata": {},
   "outputs": [],
   "source": [
    "# Traffic Conditions (Analysing and pre-processing column 5)"
   ]
  },
  {
   "cell_type": "code",
   "execution_count": 131,
   "id": "e84b2968-fcde-41c3-a966-a20da4b55a8a",
   "metadata": {},
   "outputs": [
    {
     "data": {
      "text/plain": [
       "950"
      ]
     },
     "execution_count": 131,
     "metadata": {},
     "output_type": "execute_result"
    }
   ],
   "source": [
    "df['Traffic_Conditions'].count()\n",
    "\n",
    "# There are 50 missing values in Traffic_Conditions"
   ]
  },
  {
   "cell_type": "code",
   "execution_count": 135,
   "id": "a04086f4-cda1-43d9-bcc5-3b269608b814",
   "metadata": {},
   "outputs": [
    {
     "data": {
      "text/plain": [
       "array(['Low', 'High', 'Medium', nan], dtype=object)"
      ]
     },
     "execution_count": 135,
     "metadata": {},
     "output_type": "execute_result"
    }
   ],
   "source": [
    "df['Traffic_Conditions'].unique()"
   ]
  },
  {
   "cell_type": "code",
   "execution_count": 137,
   "id": "db9e19cc-804d-42e2-a385-8ae3a834d3d8",
   "metadata": {},
   "outputs": [
    {
     "data": {
      "text/plain": [
       "0    Low\n",
       "Name: Traffic_Conditions, dtype: object"
      ]
     },
     "execution_count": 137,
     "metadata": {},
     "output_type": "execute_result"
    }
   ],
   "source": [
    "df['Traffic_Conditions'].mode() # the mode is the most frequent value"
   ]
  },
  {
   "cell_type": "code",
   "execution_count": 163,
   "id": "6713fc3e-e18d-4762-bd82-d2810fe0e2c5",
   "metadata": {},
   "outputs": [],
   "source": [
    "df['Traffic_Conditions'].fillna('Low', inplace=True)"
   ]
  },
  {
   "cell_type": "code",
   "execution_count": 165,
   "id": "2253af42-2eab-4043-84d8-0eea92a405d3",
   "metadata": {},
   "outputs": [
    {
     "data": {
      "text/plain": [
       "1000"
      ]
     },
     "execution_count": 165,
     "metadata": {},
     "output_type": "execute_result"
    }
   ],
   "source": [
    "df['Traffic_Conditions'].count()"
   ]
  },
  {
   "cell_type": "code",
   "execution_count": 167,
   "id": "8c87b799-03cc-40e6-b112-7dd6bc712eed",
   "metadata": {},
   "outputs": [],
   "source": [
    "df['Traffic_Conditions'] = label.fit_transform(df['Traffic_Conditions'])"
   ]
  },
  {
   "cell_type": "code",
   "execution_count": 169,
   "id": "00a30468-9cb2-4075-b947-f315416fdecc",
   "metadata": {},
   "outputs": [
    {
     "data": {
      "text/plain": [
       "array([1, 0, 2, 3], dtype=int64)"
      ]
     },
     "execution_count": 169,
     "metadata": {},
     "output_type": "execute_result"
    }
   ],
   "source": [
    "df['Traffic_Conditions'].unique()"
   ]
  },
  {
   "cell_type": "code",
   "execution_count": 171,
   "id": "c0468ceb-f013-4961-b03c-236f73bb3a38",
   "metadata": {},
   "outputs": [],
   "source": [
    "# Weather (Analyzing and pre-processing column 6)....................................................................."
   ]
  },
  {
   "cell_type": "code",
   "execution_count": 173,
   "id": "32d69c44-3628-430f-8bce-2f94fbc652d5",
   "metadata": {},
   "outputs": [
    {
     "data": {
      "text/plain": [
       "950"
      ]
     },
     "execution_count": 173,
     "metadata": {},
     "output_type": "execute_result"
    }
   ],
   "source": [
    "df['Weather'].count()\n",
    "\n",
    "# There are 50 missing values in Time_of_Day"
   ]
  },
  {
   "cell_type": "code",
   "execution_count": 175,
   "id": "3c9625cc-425e-4ec6-9891-d7cb2a4cc43e",
   "metadata": {},
   "outputs": [
    {
     "data": {
      "text/plain": [
       "0    Clear\n",
       "Name: Weather, dtype: object"
      ]
     },
     "execution_count": 175,
     "metadata": {},
     "output_type": "execute_result"
    }
   ],
   "source": [
    "df['Weather'].mode()"
   ]
  },
  {
   "cell_type": "code",
   "execution_count": 177,
   "id": "edb666d7-6f2d-45af-ba00-7f710482d98f",
   "metadata": {},
   "outputs": [],
   "source": [
    "df['Weather'].fillna('Clear', inplace=True)"
   ]
  },
  {
   "cell_type": "code",
   "execution_count": 179,
   "id": "dbdab8e5-8093-4a92-92e6-9475c530f1b9",
   "metadata": {},
   "outputs": [
    {
     "data": {
      "text/plain": [
       "1000"
      ]
     },
     "execution_count": 179,
     "metadata": {},
     "output_type": "execute_result"
    }
   ],
   "source": [
    "df['Weather'].count()"
   ]
  },
  {
   "cell_type": "code",
   "execution_count": 181,
   "id": "ad16a539-0e13-421e-bc12-4fbb59a18968",
   "metadata": {},
   "outputs": [],
   "source": [
    "df['Weather'] = label.fit_transform(df['Weather'])"
   ]
  },
  {
   "cell_type": "code",
   "execution_count": 183,
   "id": "297c0898-9426-4768-bf6a-677be2dc81bd",
   "metadata": {},
   "outputs": [
    {
     "data": {
      "text/plain": [
       "array([0, 1, 2])"
      ]
     },
     "execution_count": 183,
     "metadata": {},
     "output_type": "execute_result"
    }
   ],
   "source": [
    "df['Weather'].unique()"
   ]
  },
  {
   "cell_type": "code",
   "execution_count": 185,
   "id": "a24ebd5b-23ea-4eef-9d0a-28894b7bc958",
   "metadata": {},
   "outputs": [],
   "source": [
    "# Base Fare (Analyzing and pre-processing column 7)............................................................"
   ]
  },
  {
   "cell_type": "code",
   "execution_count": 187,
   "id": "6334a77e-d7fc-4dcf-b9f7-b305021ed763",
   "metadata": {},
   "outputs": [
    {
     "data": {
      "text/plain": [
       "950"
      ]
     },
     "execution_count": 187,
     "metadata": {},
     "output_type": "execute_result"
    }
   ],
   "source": [
    "df['Base_Fare'].count()"
   ]
  },
  {
   "cell_type": "code",
   "execution_count": 189,
   "id": "52e1daa6-4d89-48ad-8ad6-e74a7c42e0e1",
   "metadata": {},
   "outputs": [],
   "source": [
    "df['Base_Fare'].fillna(df['Base_Fare'].mean(), inplace=True)"
   ]
  },
  {
   "cell_type": "code",
   "execution_count": 191,
   "id": "71043ac4-ae5a-4949-bcad-0e6fa10067c0",
   "metadata": {},
   "outputs": [
    {
     "data": {
      "text/plain": [
       "1000"
      ]
     },
     "execution_count": 191,
     "metadata": {},
     "output_type": "execute_result"
    }
   ],
   "source": [
    "df['Base_Fare'].count()"
   ]
  },
  {
   "cell_type": "code",
   "execution_count": 193,
   "id": "7a25af27-6e99-4069-80df-ff584335cee2",
   "metadata": {},
   "outputs": [],
   "source": [
    "# Per km Rate (Analyzing and pre-processing column 8)..................................................................."
   ]
  },
  {
   "cell_type": "code",
   "execution_count": 195,
   "id": "9aa00c9d-f696-4528-9be7-620d5251c59f",
   "metadata": {},
   "outputs": [
    {
     "data": {
      "text/plain": [
       "950"
      ]
     },
     "execution_count": 195,
     "metadata": {},
     "output_type": "execute_result"
    }
   ],
   "source": [
    "df['Per_Km_Rate'].count()"
   ]
  },
  {
   "cell_type": "code",
   "execution_count": 197,
   "id": "90ef5543-232e-403e-a93a-907f963071e0",
   "metadata": {},
   "outputs": [],
   "source": [
    "df['Per_Km_Rate'].fillna(df['Per_Km_Rate'].mean(), inplace=True)"
   ]
  },
  {
   "cell_type": "code",
   "execution_count": 199,
   "id": "487c46db-df21-487f-97a5-2042b740d56a",
   "metadata": {},
   "outputs": [
    {
     "data": {
      "text/plain": [
       "1000"
      ]
     },
     "execution_count": 199,
     "metadata": {},
     "output_type": "execute_result"
    }
   ],
   "source": [
    "df['Per_Km_Rate'].count()"
   ]
  },
  {
   "cell_type": "code",
   "execution_count": 201,
   "id": "72b33bb3-8dce-4495-aa00-c43d67ad660a",
   "metadata": {},
   "outputs": [],
   "source": [
    "# Per minute Rate (Analyzing and pre-processing column 9)................................................................."
   ]
  },
  {
   "cell_type": "code",
   "execution_count": 203,
   "id": "ec69c661-ccb4-49ce-b536-6690347050da",
   "metadata": {},
   "outputs": [
    {
     "data": {
      "text/plain": [
       "950"
      ]
     },
     "execution_count": 203,
     "metadata": {},
     "output_type": "execute_result"
    }
   ],
   "source": [
    "df['Per_Minute_Rate'].count()"
   ]
  },
  {
   "cell_type": "code",
   "execution_count": 205,
   "id": "b56b3cdb-1329-481e-8c6c-18e0c6b0b0a8",
   "metadata": {},
   "outputs": [],
   "source": [
    "df['Per_Minute_Rate'].fillna(df['Per_Minute_Rate'].mean(), inplace=True)"
   ]
  },
  {
   "cell_type": "code",
   "execution_count": 207,
   "id": "766736c2-c9df-4497-aea1-30641ebdf2b7",
   "metadata": {},
   "outputs": [
    {
     "data": {
      "text/plain": [
       "1000"
      ]
     },
     "execution_count": 207,
     "metadata": {},
     "output_type": "execute_result"
    }
   ],
   "source": [
    "df['Per_Minute_Rate'].count()"
   ]
  },
  {
   "cell_type": "code",
   "execution_count": 209,
   "id": "48c488b1-722a-45aa-96ed-84134c724988",
   "metadata": {},
   "outputs": [],
   "source": [
    "# Trip duration minutes ((Analyzing & pre-processing column 10)..................................................."
   ]
  },
  {
   "cell_type": "code",
   "execution_count": 211,
   "id": "a5076229-cd82-40c1-9f51-db6062c3f751",
   "metadata": {},
   "outputs": [
    {
     "data": {
      "text/plain": [
       "950"
      ]
     },
     "execution_count": 211,
     "metadata": {},
     "output_type": "execute_result"
    }
   ],
   "source": [
    "\n",
    "df['Trip_Duration_Minutes'].count()"
   ]
  },
  {
   "cell_type": "code",
   "execution_count": 213,
   "id": "a2c042a9-d8cf-4d56-9e50-2456de27e47d",
   "metadata": {},
   "outputs": [],
   "source": [
    "df['Trip_Duration_Minutes'].fillna(df['Trip_Duration_Minutes'].mean(), inplace=True)"
   ]
  },
  {
   "cell_type": "code",
   "execution_count": 215,
   "id": "4e83202f-9660-4387-a06e-8b8cbd67af32",
   "metadata": {},
   "outputs": [
    {
     "data": {
      "text/plain": [
       "1000"
      ]
     },
     "execution_count": 215,
     "metadata": {},
     "output_type": "execute_result"
    }
   ],
   "source": [
    "df['Trip_Duration_Minutes'].count()"
   ]
  },
  {
   "cell_type": "code",
   "execution_count": 217,
   "id": "f3c10e63-69bb-490b-a5de-1b45598709c1",
   "metadata": {},
   "outputs": [],
   "source": [
    "# Trip price (Analyzing and pre-processing column 11)..................................................................."
   ]
  },
  {
   "cell_type": "code",
   "execution_count": 219,
   "id": "2c6cdf8c-45b0-4758-b585-59eaebcbbe46",
   "metadata": {},
   "outputs": [],
   "source": [
    "df['Trip_Price'].fillna(df['Trip_Price'].median(), inplace=True)"
   ]
  },
  {
   "cell_type": "code",
   "execution_count": 221,
   "id": "448540eb-ad96-4b66-ac0f-ba51f59d1b3e",
   "metadata": {},
   "outputs": [],
   "source": [
    "df['Trip_Price'] = df['Trip_Price'].apply(lambda x: 50 if x > 117 else x)"
   ]
  },
  {
   "cell_type": "code",
   "execution_count": 223,
   "id": "61647a04-08db-407f-96c1-405eef8e2f05",
   "metadata": {},
   "outputs": [],
   "source": [
    "# now we will move to testing and traing part............................................."
   ]
  },
  {
   "cell_type": "code",
   "execution_count": 231,
   "id": "39d4f7b0-1f60-4e90-9740-2ddb41c66bc1",
   "metadata": {},
   "outputs": [],
   "source": [
    "X = df.drop(columns=['Trip_Price'])\n",
    "y = df[['Trip_Price']]"
   ]
  },
  {
   "cell_type": "code",
   "execution_count": 239,
   "id": "528e77fa-4c46-4da9-b36d-b310672da381",
   "metadata": {},
   "outputs": [],
   "source": [
    "scaler = MinMaxScaler() \n",
    "X = scaler.fit_transform(X)\n",
    "y = scaler.fit_transform(y)"
   ]
  },
  {
   "cell_type": "code",
   "execution_count": 241,
   "id": "a59a7489-5155-4026-9e5d-4588c0606490",
   "metadata": {},
   "outputs": [],
   "source": [
    "X_train,X_test,y_train,y_test = train_test_split(X,y,test_size=0.2,random_state=0)"
   ]
  },
  {
   "cell_type": "code",
   "execution_count": 243,
   "id": "2b514765-65e9-4326-960d-ee63069de68f",
   "metadata": {},
   "outputs": [],
   "source": [
    "model = LinearRegression()"
   ]
  },
  {
   "cell_type": "code",
   "execution_count": 245,
   "id": "879dc478-57b0-4c24-a6d3-561546b22e9f",
   "metadata": {},
   "outputs": [
    {
     "data": {
      "text/html": [
       "<style>#sk-container-id-1 {\n",
       "  /* Definition of color scheme common for light and dark mode */\n",
       "  --sklearn-color-text: black;\n",
       "  --sklearn-color-line: gray;\n",
       "  /* Definition of color scheme for unfitted estimators */\n",
       "  --sklearn-color-unfitted-level-0: #fff5e6;\n",
       "  --sklearn-color-unfitted-level-1: #f6e4d2;\n",
       "  --sklearn-color-unfitted-level-2: #ffe0b3;\n",
       "  --sklearn-color-unfitted-level-3: chocolate;\n",
       "  /* Definition of color scheme for fitted estimators */\n",
       "  --sklearn-color-fitted-level-0: #f0f8ff;\n",
       "  --sklearn-color-fitted-level-1: #d4ebff;\n",
       "  --sklearn-color-fitted-level-2: #b3dbfd;\n",
       "  --sklearn-color-fitted-level-3: cornflowerblue;\n",
       "\n",
       "  /* Specific color for light theme */\n",
       "  --sklearn-color-text-on-default-background: var(--sg-text-color, var(--theme-code-foreground, var(--jp-content-font-color1, black)));\n",
       "  --sklearn-color-background: var(--sg-background-color, var(--theme-background, var(--jp-layout-color0, white)));\n",
       "  --sklearn-color-border-box: var(--sg-text-color, var(--theme-code-foreground, var(--jp-content-font-color1, black)));\n",
       "  --sklearn-color-icon: #696969;\n",
       "\n",
       "  @media (prefers-color-scheme: dark) {\n",
       "    /* Redefinition of color scheme for dark theme */\n",
       "    --sklearn-color-text-on-default-background: var(--sg-text-color, var(--theme-code-foreground, var(--jp-content-font-color1, white)));\n",
       "    --sklearn-color-background: var(--sg-background-color, var(--theme-background, var(--jp-layout-color0, #111)));\n",
       "    --sklearn-color-border-box: var(--sg-text-color, var(--theme-code-foreground, var(--jp-content-font-color1, white)));\n",
       "    --sklearn-color-icon: #878787;\n",
       "  }\n",
       "}\n",
       "\n",
       "#sk-container-id-1 {\n",
       "  color: var(--sklearn-color-text);\n",
       "}\n",
       "\n",
       "#sk-container-id-1 pre {\n",
       "  padding: 0;\n",
       "}\n",
       "\n",
       "#sk-container-id-1 input.sk-hidden--visually {\n",
       "  border: 0;\n",
       "  clip: rect(1px 1px 1px 1px);\n",
       "  clip: rect(1px, 1px, 1px, 1px);\n",
       "  height: 1px;\n",
       "  margin: -1px;\n",
       "  overflow: hidden;\n",
       "  padding: 0;\n",
       "  position: absolute;\n",
       "  width: 1px;\n",
       "}\n",
       "\n",
       "#sk-container-id-1 div.sk-dashed-wrapped {\n",
       "  border: 1px dashed var(--sklearn-color-line);\n",
       "  margin: 0 0.4em 0.5em 0.4em;\n",
       "  box-sizing: border-box;\n",
       "  padding-bottom: 0.4em;\n",
       "  background-color: var(--sklearn-color-background);\n",
       "}\n",
       "\n",
       "#sk-container-id-1 div.sk-container {\n",
       "  /* jupyter's `normalize.less` sets `[hidden] { display: none; }`\n",
       "     but bootstrap.min.css set `[hidden] { display: none !important; }`\n",
       "     so we also need the `!important` here to be able to override the\n",
       "     default hidden behavior on the sphinx rendered scikit-learn.org.\n",
       "     See: https://github.com/scikit-learn/scikit-learn/issues/21755 */\n",
       "  display: inline-block !important;\n",
       "  position: relative;\n",
       "}\n",
       "\n",
       "#sk-container-id-1 div.sk-text-repr-fallback {\n",
       "  display: none;\n",
       "}\n",
       "\n",
       "div.sk-parallel-item,\n",
       "div.sk-serial,\n",
       "div.sk-item {\n",
       "  /* draw centered vertical line to link estimators */\n",
       "  background-image: linear-gradient(var(--sklearn-color-text-on-default-background), var(--sklearn-color-text-on-default-background));\n",
       "  background-size: 2px 100%;\n",
       "  background-repeat: no-repeat;\n",
       "  background-position: center center;\n",
       "}\n",
       "\n",
       "/* Parallel-specific style estimator block */\n",
       "\n",
       "#sk-container-id-1 div.sk-parallel-item::after {\n",
       "  content: \"\";\n",
       "  width: 100%;\n",
       "  border-bottom: 2px solid var(--sklearn-color-text-on-default-background);\n",
       "  flex-grow: 1;\n",
       "}\n",
       "\n",
       "#sk-container-id-1 div.sk-parallel {\n",
       "  display: flex;\n",
       "  align-items: stretch;\n",
       "  justify-content: center;\n",
       "  background-color: var(--sklearn-color-background);\n",
       "  position: relative;\n",
       "}\n",
       "\n",
       "#sk-container-id-1 div.sk-parallel-item {\n",
       "  display: flex;\n",
       "  flex-direction: column;\n",
       "}\n",
       "\n",
       "#sk-container-id-1 div.sk-parallel-item:first-child::after {\n",
       "  align-self: flex-end;\n",
       "  width: 50%;\n",
       "}\n",
       "\n",
       "#sk-container-id-1 div.sk-parallel-item:last-child::after {\n",
       "  align-self: flex-start;\n",
       "  width: 50%;\n",
       "}\n",
       "\n",
       "#sk-container-id-1 div.sk-parallel-item:only-child::after {\n",
       "  width: 0;\n",
       "}\n",
       "\n",
       "/* Serial-specific style estimator block */\n",
       "\n",
       "#sk-container-id-1 div.sk-serial {\n",
       "  display: flex;\n",
       "  flex-direction: column;\n",
       "  align-items: center;\n",
       "  background-color: var(--sklearn-color-background);\n",
       "  padding-right: 1em;\n",
       "  padding-left: 1em;\n",
       "}\n",
       "\n",
       "\n",
       "/* Toggleable style: style used for estimator/Pipeline/ColumnTransformer box that is\n",
       "clickable and can be expanded/collapsed.\n",
       "- Pipeline and ColumnTransformer use this feature and define the default style\n",
       "- Estimators will overwrite some part of the style using the `sk-estimator` class\n",
       "*/\n",
       "\n",
       "/* Pipeline and ColumnTransformer style (default) */\n",
       "\n",
       "#sk-container-id-1 div.sk-toggleable {\n",
       "  /* Default theme specific background. It is overwritten whether we have a\n",
       "  specific estimator or a Pipeline/ColumnTransformer */\n",
       "  background-color: var(--sklearn-color-background);\n",
       "}\n",
       "\n",
       "/* Toggleable label */\n",
       "#sk-container-id-1 label.sk-toggleable__label {\n",
       "  cursor: pointer;\n",
       "  display: block;\n",
       "  width: 100%;\n",
       "  margin-bottom: 0;\n",
       "  padding: 0.5em;\n",
       "  box-sizing: border-box;\n",
       "  text-align: center;\n",
       "}\n",
       "\n",
       "#sk-container-id-1 label.sk-toggleable__label-arrow:before {\n",
       "  /* Arrow on the left of the label */\n",
       "  content: \"▸\";\n",
       "  float: left;\n",
       "  margin-right: 0.25em;\n",
       "  color: var(--sklearn-color-icon);\n",
       "}\n",
       "\n",
       "#sk-container-id-1 label.sk-toggleable__label-arrow:hover:before {\n",
       "  color: var(--sklearn-color-text);\n",
       "}\n",
       "\n",
       "/* Toggleable content - dropdown */\n",
       "\n",
       "#sk-container-id-1 div.sk-toggleable__content {\n",
       "  max-height: 0;\n",
       "  max-width: 0;\n",
       "  overflow: hidden;\n",
       "  text-align: left;\n",
       "  /* unfitted */\n",
       "  background-color: var(--sklearn-color-unfitted-level-0);\n",
       "}\n",
       "\n",
       "#sk-container-id-1 div.sk-toggleable__content.fitted {\n",
       "  /* fitted */\n",
       "  background-color: var(--sklearn-color-fitted-level-0);\n",
       "}\n",
       "\n",
       "#sk-container-id-1 div.sk-toggleable__content pre {\n",
       "  margin: 0.2em;\n",
       "  border-radius: 0.25em;\n",
       "  color: var(--sklearn-color-text);\n",
       "  /* unfitted */\n",
       "  background-color: var(--sklearn-color-unfitted-level-0);\n",
       "}\n",
       "\n",
       "#sk-container-id-1 div.sk-toggleable__content.fitted pre {\n",
       "  /* unfitted */\n",
       "  background-color: var(--sklearn-color-fitted-level-0);\n",
       "}\n",
       "\n",
       "#sk-container-id-1 input.sk-toggleable__control:checked~div.sk-toggleable__content {\n",
       "  /* Expand drop-down */\n",
       "  max-height: 200px;\n",
       "  max-width: 100%;\n",
       "  overflow: auto;\n",
       "}\n",
       "\n",
       "#sk-container-id-1 input.sk-toggleable__control:checked~label.sk-toggleable__label-arrow:before {\n",
       "  content: \"▾\";\n",
       "}\n",
       "\n",
       "/* Pipeline/ColumnTransformer-specific style */\n",
       "\n",
       "#sk-container-id-1 div.sk-label input.sk-toggleable__control:checked~label.sk-toggleable__label {\n",
       "  color: var(--sklearn-color-text);\n",
       "  background-color: var(--sklearn-color-unfitted-level-2);\n",
       "}\n",
       "\n",
       "#sk-container-id-1 div.sk-label.fitted input.sk-toggleable__control:checked~label.sk-toggleable__label {\n",
       "  background-color: var(--sklearn-color-fitted-level-2);\n",
       "}\n",
       "\n",
       "/* Estimator-specific style */\n",
       "\n",
       "/* Colorize estimator box */\n",
       "#sk-container-id-1 div.sk-estimator input.sk-toggleable__control:checked~label.sk-toggleable__label {\n",
       "  /* unfitted */\n",
       "  background-color: var(--sklearn-color-unfitted-level-2);\n",
       "}\n",
       "\n",
       "#sk-container-id-1 div.sk-estimator.fitted input.sk-toggleable__control:checked~label.sk-toggleable__label {\n",
       "  /* fitted */\n",
       "  background-color: var(--sklearn-color-fitted-level-2);\n",
       "}\n",
       "\n",
       "#sk-container-id-1 div.sk-label label.sk-toggleable__label,\n",
       "#sk-container-id-1 div.sk-label label {\n",
       "  /* The background is the default theme color */\n",
       "  color: var(--sklearn-color-text-on-default-background);\n",
       "}\n",
       "\n",
       "/* On hover, darken the color of the background */\n",
       "#sk-container-id-1 div.sk-label:hover label.sk-toggleable__label {\n",
       "  color: var(--sklearn-color-text);\n",
       "  background-color: var(--sklearn-color-unfitted-level-2);\n",
       "}\n",
       "\n",
       "/* Label box, darken color on hover, fitted */\n",
       "#sk-container-id-1 div.sk-label.fitted:hover label.sk-toggleable__label.fitted {\n",
       "  color: var(--sklearn-color-text);\n",
       "  background-color: var(--sklearn-color-fitted-level-2);\n",
       "}\n",
       "\n",
       "/* Estimator label */\n",
       "\n",
       "#sk-container-id-1 div.sk-label label {\n",
       "  font-family: monospace;\n",
       "  font-weight: bold;\n",
       "  display: inline-block;\n",
       "  line-height: 1.2em;\n",
       "}\n",
       "\n",
       "#sk-container-id-1 div.sk-label-container {\n",
       "  text-align: center;\n",
       "}\n",
       "\n",
       "/* Estimator-specific */\n",
       "#sk-container-id-1 div.sk-estimator {\n",
       "  font-family: monospace;\n",
       "  border: 1px dotted var(--sklearn-color-border-box);\n",
       "  border-radius: 0.25em;\n",
       "  box-sizing: border-box;\n",
       "  margin-bottom: 0.5em;\n",
       "  /* unfitted */\n",
       "  background-color: var(--sklearn-color-unfitted-level-0);\n",
       "}\n",
       "\n",
       "#sk-container-id-1 div.sk-estimator.fitted {\n",
       "  /* fitted */\n",
       "  background-color: var(--sklearn-color-fitted-level-0);\n",
       "}\n",
       "\n",
       "/* on hover */\n",
       "#sk-container-id-1 div.sk-estimator:hover {\n",
       "  /* unfitted */\n",
       "  background-color: var(--sklearn-color-unfitted-level-2);\n",
       "}\n",
       "\n",
       "#sk-container-id-1 div.sk-estimator.fitted:hover {\n",
       "  /* fitted */\n",
       "  background-color: var(--sklearn-color-fitted-level-2);\n",
       "}\n",
       "\n",
       "/* Specification for estimator info (e.g. \"i\" and \"?\") */\n",
       "\n",
       "/* Common style for \"i\" and \"?\" */\n",
       "\n",
       ".sk-estimator-doc-link,\n",
       "a:link.sk-estimator-doc-link,\n",
       "a:visited.sk-estimator-doc-link {\n",
       "  float: right;\n",
       "  font-size: smaller;\n",
       "  line-height: 1em;\n",
       "  font-family: monospace;\n",
       "  background-color: var(--sklearn-color-background);\n",
       "  border-radius: 1em;\n",
       "  height: 1em;\n",
       "  width: 1em;\n",
       "  text-decoration: none !important;\n",
       "  margin-left: 1ex;\n",
       "  /* unfitted */\n",
       "  border: var(--sklearn-color-unfitted-level-1) 1pt solid;\n",
       "  color: var(--sklearn-color-unfitted-level-1);\n",
       "}\n",
       "\n",
       ".sk-estimator-doc-link.fitted,\n",
       "a:link.sk-estimator-doc-link.fitted,\n",
       "a:visited.sk-estimator-doc-link.fitted {\n",
       "  /* fitted */\n",
       "  border: var(--sklearn-color-fitted-level-1) 1pt solid;\n",
       "  color: var(--sklearn-color-fitted-level-1);\n",
       "}\n",
       "\n",
       "/* On hover */\n",
       "div.sk-estimator:hover .sk-estimator-doc-link:hover,\n",
       ".sk-estimator-doc-link:hover,\n",
       "div.sk-label-container:hover .sk-estimator-doc-link:hover,\n",
       ".sk-estimator-doc-link:hover {\n",
       "  /* unfitted */\n",
       "  background-color: var(--sklearn-color-unfitted-level-3);\n",
       "  color: var(--sklearn-color-background);\n",
       "  text-decoration: none;\n",
       "}\n",
       "\n",
       "div.sk-estimator.fitted:hover .sk-estimator-doc-link.fitted:hover,\n",
       ".sk-estimator-doc-link.fitted:hover,\n",
       "div.sk-label-container:hover .sk-estimator-doc-link.fitted:hover,\n",
       ".sk-estimator-doc-link.fitted:hover {\n",
       "  /* fitted */\n",
       "  background-color: var(--sklearn-color-fitted-level-3);\n",
       "  color: var(--sklearn-color-background);\n",
       "  text-decoration: none;\n",
       "}\n",
       "\n",
       "/* Span, style for the box shown on hovering the info icon */\n",
       ".sk-estimator-doc-link span {\n",
       "  display: none;\n",
       "  z-index: 9999;\n",
       "  position: relative;\n",
       "  font-weight: normal;\n",
       "  right: .2ex;\n",
       "  padding: .5ex;\n",
       "  margin: .5ex;\n",
       "  width: min-content;\n",
       "  min-width: 20ex;\n",
       "  max-width: 50ex;\n",
       "  color: var(--sklearn-color-text);\n",
       "  box-shadow: 2pt 2pt 4pt #999;\n",
       "  /* unfitted */\n",
       "  background: var(--sklearn-color-unfitted-level-0);\n",
       "  border: .5pt solid var(--sklearn-color-unfitted-level-3);\n",
       "}\n",
       "\n",
       ".sk-estimator-doc-link.fitted span {\n",
       "  /* fitted */\n",
       "  background: var(--sklearn-color-fitted-level-0);\n",
       "  border: var(--sklearn-color-fitted-level-3);\n",
       "}\n",
       "\n",
       ".sk-estimator-doc-link:hover span {\n",
       "  display: block;\n",
       "}\n",
       "\n",
       "/* \"?\"-specific style due to the `<a>` HTML tag */\n",
       "\n",
       "#sk-container-id-1 a.estimator_doc_link {\n",
       "  float: right;\n",
       "  font-size: 1rem;\n",
       "  line-height: 1em;\n",
       "  font-family: monospace;\n",
       "  background-color: var(--sklearn-color-background);\n",
       "  border-radius: 1rem;\n",
       "  height: 1rem;\n",
       "  width: 1rem;\n",
       "  text-decoration: none;\n",
       "  /* unfitted */\n",
       "  color: var(--sklearn-color-unfitted-level-1);\n",
       "  border: var(--sklearn-color-unfitted-level-1) 1pt solid;\n",
       "}\n",
       "\n",
       "#sk-container-id-1 a.estimator_doc_link.fitted {\n",
       "  /* fitted */\n",
       "  border: var(--sklearn-color-fitted-level-1) 1pt solid;\n",
       "  color: var(--sklearn-color-fitted-level-1);\n",
       "}\n",
       "\n",
       "/* On hover */\n",
       "#sk-container-id-1 a.estimator_doc_link:hover {\n",
       "  /* unfitted */\n",
       "  background-color: var(--sklearn-color-unfitted-level-3);\n",
       "  color: var(--sklearn-color-background);\n",
       "  text-decoration: none;\n",
       "}\n",
       "\n",
       "#sk-container-id-1 a.estimator_doc_link.fitted:hover {\n",
       "  /* fitted */\n",
       "  background-color: var(--sklearn-color-fitted-level-3);\n",
       "}\n",
       "</style><div id=\"sk-container-id-1\" class=\"sk-top-container\"><div class=\"sk-text-repr-fallback\"><pre>LinearRegression()</pre><b>In a Jupyter environment, please rerun this cell to show the HTML representation or trust the notebook. <br />On GitHub, the HTML representation is unable to render, please try loading this page with nbviewer.org.</b></div><div class=\"sk-container\" hidden><div class=\"sk-item\"><div class=\"sk-estimator fitted sk-toggleable\"><input class=\"sk-toggleable__control sk-hidden--visually\" id=\"sk-estimator-id-1\" type=\"checkbox\" checked><label for=\"sk-estimator-id-1\" class=\"sk-toggleable__label fitted sk-toggleable__label-arrow fitted\">&nbsp;&nbsp;LinearRegression<a class=\"sk-estimator-doc-link fitted\" rel=\"noreferrer\" target=\"_blank\" href=\"https://scikit-learn.org/1.5/modules/generated/sklearn.linear_model.LinearRegression.html\">?<span>Documentation for LinearRegression</span></a><span class=\"sk-estimator-doc-link fitted\">i<span>Fitted</span></span></label><div class=\"sk-toggleable__content fitted\"><pre>LinearRegression()</pre></div> </div></div></div></div>"
      ],
      "text/plain": [
       "LinearRegression()"
      ]
     },
     "execution_count": 245,
     "metadata": {},
     "output_type": "execute_result"
    }
   ],
   "source": [
    "model.fit(X_train,y_train)"
   ]
  },
  {
   "cell_type": "code",
   "execution_count": 249,
   "id": "c433e94a-304d-4e61-b87d-3a9a249df582",
   "metadata": {},
   "outputs": [],
   "source": [
    "y_pred = model.predict(X_test)"
   ]
  },
  {
   "cell_type": "code",
   "execution_count": 251,
   "id": "ba1db08a-9db6-4ee8-ace0-99eec6c60fc3",
   "metadata": {},
   "outputs": [],
   "source": [
    "mse = mean_squared_error(y_test,y_pred)"
   ]
  },
  {
   "cell_type": "code",
   "execution_count": 253,
   "id": "8d24e4a1-9944-4698-920b-223848118883",
   "metadata": {},
   "outputs": [
    {
     "data": {
      "text/plain": [
       "0.011897303213194156"
      ]
     },
     "execution_count": 253,
     "metadata": {},
     "output_type": "execute_result"
    }
   ],
   "source": [
    "mse"
   ]
  },
  {
   "cell_type": "code",
   "execution_count": 257,
   "id": "7ebb2802-cd65-4730-9eb2-b48904826ca4",
   "metadata": {},
   "outputs": [
    {
     "data": {
      "text/plain": [
       "0.1090747597439213"
      ]
     },
     "execution_count": 257,
     "metadata": {},
     "output_type": "execute_result"
    }
   ],
   "source": [
    "np.sqrt(mse)"
   ]
  },
  {
   "cell_type": "code",
   "execution_count": 259,
   "id": "b7dd1023-4a16-4409-a2de-8069b85a7663",
   "metadata": {},
   "outputs": [
    {
     "data": {
      "image/png": "[encoded data removed]",
      "text/plain": [
       "<Figure size 1000x600 with 1 Axes>"
      ]
     },
     "metadata": {},
     "output_type": "display_data"
    }
   ],
   "source": [
    "# Scatterplot for actual vs predicted prices\n",
    "plt.figure(figsize=(10, 6))\n",
    "plt.scatter(y_test, y_pred, color='blue', alpha=0.7, label='Predicted vs Actual')\n",
    "\n",
    "# Plot a perfect prediction line\n",
    "plt.plot([y_test.min(), y_test.max()], [y_test.min(), y_test.max()], color='red', linestyle='--', label='Perfect Fit')\n",
    "\n",
    "# Labels and title\n",
    "plt.xlabel('Actual Prices')\n",
    "plt.ylabel('Predicted Prices')\n",
    "plt.title('Actual vs Predicted Prices')\n",
    "plt.legend()\n",
    "plt.grid(True)\n",
    "plt.show()\n"
   ]
  },
  {
   "cell_type": "code",
   "execution_count": null,
   "id": "21f874a4-ca69-4941-aa63-108a3557c52d",
   "metadata": {},
   "outputs": [],
   "source": []
  }
 ],
 "metadata": {
  "kernelspec": {
   "display_name": "Python 3 (ipykernel)",
   "language": "python",
   "name": "python3"
  },
  "language_info": {
   "codemirror_mode": {
    "name": "ipython",
    "version": 3
   },
   "file_extension": ".py",
   "mimetype": "text/x-python",
   "name": "python",
   "nbconvert_exporter": "python",
   "pygments_lexer": "ipython3",
   "version": "3.12.7"
  }
 },
 "nbformat": 4,
 "nbformat_minor": 5
}
